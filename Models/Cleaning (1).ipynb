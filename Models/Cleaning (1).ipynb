{
 "cells": [
  {
   "cell_type": "code",
   "execution_count": 1,
   "metadata": {
    "collapsed": true
   },
   "outputs": [],
   "source": [
    "import pandas as pd\n",
    "import csv\n",
    "import re\n",
    "import glob\n",
    "import os"
   ]
  },
  {
   "cell_type": "code",
   "execution_count": 11,
   "metadata": {
    "collapsed": true
   },
   "outputs": [],
   "source": [
    "months = {'01':'Jan','02':'Feb','03':'Mar','04':'Apr','05':'May','06':'June','07':'July','08':'Aug','09':'Sept','10':'Oct','11':'Nov','12':'Dec'}"
   ]
  },
  {
   "cell_type": "code",
   "execution_count": 5,
   "metadata": {
    "collapsed": true
   },
   "outputs": [],
   "source": [
    "path = r'D:/FYP/Implementation/Vikhroli csv data oct-dec/data october/1-10'\n",
    "allfiles = glob.glob(path + \"/*.csv\")"
   ]
  },
  {
   "cell_type": "code",
   "execution_count": 6,
   "metadata": {
    "collapsed": true,
    "scrolled": true
   },
   "outputs": [],
   "source": [
    "for i in xrange(1,15):\n",
    "    #print i\n",
    "    path = 'D:/FYP/Implementation/Time slot analysis Vikhroli/'+ str(i) + '-2'\n",
    "    #print path\n",
    "    allfiles = glob.glob(path + \"/*.csv\")\n",
    "    for files in allfiles:\n",
    "        udf = pd.DataFrame(columns=['Time Slot','Trips','Passengers'])\n",
    "        ddf = pd.DataFrame(columns=['Time Slot','Trips','Passengers'])\n",
    "        with open(files,'rb') as f:\n",
    "            reader = csv.reader(f, delimiter=\",\")\n",
    "            timeslot = []\n",
    "            up_trips = []\n",
    "            down_trips = []\n",
    "            up_passengers = []\n",
    "            down_passengers = []\n",
    "            rows = [r for r in reader]\n",
    "\n",
    "            route = ''.join(re.findall(r'\\d+',rows[0][0]))\n",
    "            month = ''.join(re.findall(r'\\d+',rows[0][1][:9]))\n",
    "            date = ''.join(re.findall(r'\\d+',rows[0][1][10:12]))\n",
    "            year = ''.join(re.findall(r'\\d+',rows[0][1][13:]))\n",
    "            day = rows[0][9][6:]\n",
    "            #day = re.findall(r'(Day:- (.*))',rows[0][9])\n",
    "            #print day[0][1]\n",
    "            #print day\n",
    "\n",
    "            for x in rows[4:-1]:\n",
    "                timeslot.append(x[0])\n",
    "                up_trips.append(x[1])\n",
    "                up_passengers.append(x[3])\n",
    "                down_trips.append(x[9])\n",
    "                down_passengers.append(x[11])\n",
    "\n",
    "        for j in xrange(len(timeslot)):\n",
    "            udf = udf.append(pd.Series([timeslot[j],up_trips[j],up_passengers[j]], index = ['Time Slot','Trips','Passengers']), ignore_index=True)\n",
    "            ddf = ddf.append(pd.Series([timeslot[j],down_trips[j],down_passengers[j]], index = ['Time Slot','Trips','Passengers']), ignore_index=True)\n",
    "\n",
    "        filename = 'Clean data'+route + '_Up_'+year+'_'+month +'_'+ date +'_'+day\n",
    "        udf.to_csv('D:/FYP/Implementation/Clean Data Files/Clean data Vikhroli/'+route+'/Up/' + filename +'.csv') #Location barabar change karlo\n",
    "        filename = 'Clean data'+route + '_Down_'+year+'_'+month +'_'+ date +'_'+day\n",
    "        ddf.to_csv('D:/FYP/Implementation/Clean Data Files/Clean data Vikhroli/'+ route+'/Down/'  + filename +'.csv') #Yahan bhi"
   ]
  },
  {
   "cell_type": "code",
   "execution_count": null,
   "metadata": {
    "collapsed": true
   },
   "outputs": [],
   "source": []
  },
  {
   "cell_type": "code",
   "execution_count": null,
   "metadata": {
    "collapsed": true
   },
   "outputs": [],
   "source": []
  },
  {
   "cell_type": "code",
   "execution_count": null,
   "metadata": {
    "collapsed": true
   },
   "outputs": [],
   "source": []
  }
 ],
 "metadata": {
  "kernelspec": {
   "display_name": "Python 2",
   "language": "python",
   "name": "python2"
  },
  "language_info": {
   "codemirror_mode": {
    "name": "ipython",
    "version": 2
   },
   "file_extension": ".py",
   "mimetype": "text/x-python",
   "name": "python",
   "nbconvert_exporter": "python",
   "pygments_lexer": "ipython2",
   "version": "2.7.14"
  }
 },
 "nbformat": 4,
 "nbformat_minor": 2
}
