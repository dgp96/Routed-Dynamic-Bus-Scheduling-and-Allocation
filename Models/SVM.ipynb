{
 "cells": [
  {
   "cell_type": "code",
   "execution_count": 137,
   "metadata": {
    "collapsed": true
   },
   "outputs": [],
   "source": [
    "#Import files module\n",
    "import pandas as pd\n",
    "import csv\n",
    "import re                     ##Regular expressions\n",
    "import glob\n",
    "import os\n",
    "import logging\n",
    "import numpy as np\n",
    "import datetime\n",
    "from sklearn.linear_model import LinearRegression\n",
    "import statsmodels.api as sm\n",
    "from sklearn.preprocessing import StandardScaler\n",
    "import keras\n",
    "from keras.datasets import mnist\n",
    "from keras.models import Sequential\n",
    "from keras.layers import Dense, Dropout\n",
    "from keras.optimizers import RMSprop"
   ]
  },
  {
   "cell_type": "code",
   "execution_count": 138,
   "metadata": {
    "collapsed": true
   },
   "outputs": [],
   "source": [
    "#logging mechanism for debugging\n",
    "logging.basicConfig(format='%(asctime)s : %(levelname)s : %(message)s', level=logging.INFO)"
   ]
  },
  {
   "cell_type": "code",
   "execution_count": 139,
   "metadata": {
    "collapsed": true
   },
   "outputs": [],
   "source": [
    "#Mapping months to numeric values\n",
    "months = {'01':'Jan','02':'Feb','03':'Mar','04':'Apr','05':'May','06':'June','07':'July','08':'Aug','09':'Sept','10':'Oct','11':'Nov','12':'Dec'}"
   ]
  },
  {
   "cell_type": "code",
   "execution_count": 140,
   "metadata": {
    "collapsed": true
   },
   "outputs": [],
   "source": [
    "import pandas as pd\n",
    "\n",
    "#Importing files from specific folders and list of holidays\n",
    "bus_no='6080'                                                   #Route number - Change this value accordingly \n",
    "path = r'D:/Dharmit/Final Year Project/Clean data Vikhroli/'+bus_no+'/Up'   #Up Direction files folder Path - Change the path accordingly    \n",
    "down_path = r'D:/Dharmit/Final Year Project/Clean data Vikhroli/'+bus_no+'/Down' #Down Direction files folder path - Change the path accordingly\n",
    "allfiles = glob.glob(path + \"/*.csv\")\n",
    "down_allfiles = glob.glob(down_path + \"/*.csv\")\n",
    "Holiday_colnames = ['Holiday', 'Date', 'Day', 'Month']\n",
    "Holiday_data = pd.read_csv('D:\\Dharmit\\Final Year Project\\List of holidays.csv', names=Holiday_colnames)     #Holiday list for 2018\n",
    "Holiday_2017 = pd.read_csv('D:\\Dharmit\\Final Year Project\\List of holidays 2017.csv', names=Holiday_colnames)      #Holiday list for 2017\n",
    "feature_names =  ['Time Slot','Trips','Passengers','Day','isHoliday']"
   ]
  },
  {
   "cell_type": "markdown",
   "metadata": {},
   "source": [
    "# Up Direction Processing"
   ]
  },
  {
   "cell_type": "code",
   "execution_count": 141,
   "metadata": {
    "collapsed": true
   },
   "outputs": [],
   "source": [
    "#Making separate dataframes for each separate timeslot over many days\n",
    "df1=pd.DataFrame(columns=['Time Slot','Trips','Passengers','Day','isHoliday'])\n",
    "df2=pd.DataFrame(columns=['Time Slot','Trips','Passengers','Day','isHoliday'])\n",
    "df3=pd.DataFrame(columns=['Time Slot','Trips','Passengers','Day','isHoliday'])\n",
    "df4=pd.DataFrame(columns=['Time Slot','Trips','Passengers','Day','isHoliday'])\n",
    "df5=pd.DataFrame(columns=['Time Slot','Trips','Passengers','Day','isHoliday'])\n",
    "df6=pd.DataFrame(columns=['Time Slot','Trips','Passengers','Day','isHoliday'])\n",
    "df7=pd.DataFrame(columns=['Time Slot','Trips','Passengers','Day','isHoliday'])\n",
    "df8=pd.DataFrame(columns=['Time Slot','Trips','Passengers','Day','isHoliday'])\n",
    "df9=pd.DataFrame(columns=['Time Slot','Trips','Passengers','Day','isHoliday'])\n",
    "df10=pd.DataFrame(columns=['Time Slot','Trips','Passengers','Day','isHoliday'])\n",
    "df11=pd.DataFrame(columns=['Time Slot','Trips','Passengers','Day','isHoliday'])\n",
    "df12=pd.DataFrame(columns=['Time Slot','Trips','Passengers','Day','isHoliday'])\n",
    "df13=pd.DataFrame(columns=['Time Slot','Trips','Passengers','Day','isHoliday'])\n",
    "df14=pd.DataFrame(columns=['Time Slot','Trips','Passengers','Day','isHoliday'])\n",
    "df15=pd.DataFrame(columns=['Time Slot','Trips','Passengers','Day','isHoliday'])\n",
    "df16=pd.DataFrame(columns=['Time Slot','Trips','Passengers','Day','isHoliday'])\n",
    "df17=pd.DataFrame(columns=['Time Slot','Trips','Passengers','Day','isHoliday'])\n",
    "df18=pd.DataFrame(columns=['Time Slot','Trips','Passengers','Day','isHoliday'])\n",
    "df19=pd.DataFrame(columns=['Time Slot','Trips','Passengers','Day','isHoliday'])\n",
    "df20=pd.DataFrame(columns=['Time Slot','Trips','Passengers','Day','isHoliday'])\n",
    "df=[df1,df2,df3,df4,df5,df6,df7,df8,df9,df10,df11,df12,df13,df14,df15,df16,df17,df18,df19,df20]\n",
    "\n",
    "#Dicing only requird data from list of holidays\n",
    "holiday_day = Holiday_data['Day']\n",
    "holiday_month = Holiday_data['Month']\n",
    "holiday_day_2017 = Holiday_2017['Day']\n",
    "holiday_month_2017 = Holiday_2017['Month']"
   ]
  },
  {
   "cell_type": "code",
   "execution_count": 142,
   "metadata": {
    "collapsed": true
   },
   "outputs": [],
   "source": [
    "Timeslot_values= ['00:00:01-05:00:00','05:00:01-06:00:00','06:00:01-07:00:00','07:00:01-08:00:00','08:00:01-09:00:00','09:00:01-10:00:00','10:00:01-11:00:00','11:00:01-12:00:00','12:00:01-13:00:00','13:00:01-14:00:00','14:00:01-15:00:00','15:00:01-16:00:00','16:00:01-17:00:00','17:00:01-18:00:00','18:00:01-19:00:00','19:00:01-20:00:00','20:00:01-21:00:00','21:00:01-22:00:00','22:00:01-23:00:00','23:00:01-24:00:00']\n",
    "Days = {'Monday':1,'Tuesday':2,'Wednesday':3,'Thursday':4,'Friday':5,'Saturday':6,'Sunday':7}\n",
    "\n",
    "#Obtaining the day and date details for current day \n",
    "now = datetime.datetime.now()   \n",
    "current_month = months[str(now.month).zfill(2)] \n",
    "current_day = now.day\n",
    "isCurrDay_holiday = 0\n",
    "current_dow = Days[now.strftime(\"%A\")]           #Obtaining current day of the week\n",
    "for i in range(1,23):                            #checking if there is holiday today\n",
    "    if(holiday_day[i]==current_day and current_month==holiday_month[i]):\n",
    "        isCurrDay_holiday=1\n",
    "\n",
    "for files in allfiles:\n",
    "    #Obtaining Day and date details from filename\n",
    "    base = os.path.basename(files)\n",
    "    day = os.path.splitext(base)[0][29:]\n",
    "    date = os.path.splitext(base)[0][26:28]\n",
    "\n",
    "    month = os.path.splitext(base)[0][23:25]\n",
    "    year = os.path.splitext(base)[0][18:22]\n",
    "    #Determining whether holiday or not\n",
    "    holiday = 0\n",
    "    if year=='2017':\n",
    "        for i in range(1,22):\n",
    "            if(str(holiday_day_2017[i]).zfill(2)==date and months[month]==holiday_month_2017[i]):\n",
    "            #print'Holiday 2017'\n",
    "                holiday=1\n",
    "    else:\n",
    "        for i in range(1,23):\n",
    "            if(holiday_day[i]==date and months[month]==holiday_month[i]):\n",
    "                holiday=1\n",
    "            \n",
    "    #Pre-processing data into required format\n",
    "    day = Days[day]                                        #Mapping day to numeric value\n",
    "    with open(files,'rb') as f:\n",
    "        timeslot = []\n",
    "        trips = []\n",
    "        passengers = []\n",
    "        reader = csv.reader(f, delimiter=\",\")\n",
    "        rows = [r for r in reader]\n",
    "        for x in rows[1:]:\n",
    "            timeslot.append(x[1])\n",
    "            trips.append(x[2])\n",
    "            if(x[3]==''):\n",
    "                x[3]=0\n",
    "            passengers.append(x[3])\n",
    " \n",
    "    #Adding data into the dataframes created previously according to time slots\n",
    "    for j in xrange(len(timeslot)):\n",
    "        df[j]= df[j].append(pd.Series([timeslot[j],trips[j],int(passengers[j]),day,holiday], index = ['Time Slot','Trips','Passengers','Day','isHoliday']), ignore_index=True)\n",
    "        df[j]=df[j].replace('',0)                      #Replacing NAN values by 0"
   ]
  },
  {
   "cell_type": "code",
   "execution_count": 144,
   "metadata": {},
   "outputs": [
    {
     "name": "stdout",
     "output_type": "stream",
     "text": [
      "Timeslot 1 :\n",
      "[ 9.  4.  0.]\n",
      "Predicted trips for timeslot: 1 is: 0\n",
      "Timeslot 2 :\n",
      "[ 4.  4.  0.]\n",
      "Predicted trips for timeslot: 2 is: 1\n",
      "Timeslot 3 :\n",
      "[ 15.   4.   0.]\n",
      "Predicted trips for timeslot: 3 is: 5\n",
      "Timeslot 4 :\n",
      "[ 32.   4.   0.]\n",
      "Predicted trips for timeslot: 4 is: 6\n",
      "Timeslot 5 :\n",
      "[ 32.   4.   0.]\n",
      "Predicted trips for timeslot: 5 is: 5\n",
      "Timeslot 6 :\n",
      "[ 36.   4.   0.]\n",
      "Predicted trips for timeslot: 6 is: 3\n",
      "Timeslot 7 :\n",
      "[ 23.   4.   0.]\n",
      "Predicted trips for timeslot: 7 is: 3\n",
      "Timeslot 8 :\n",
      "[ 31.   4.   0.]\n",
      "Predicted trips for timeslot: 8 is: 2\n",
      "Timeslot 9 :\n",
      "[ 34.   4.   0.]\n",
      "Predicted trips for timeslot: 9 is: 2\n",
      "Timeslot 10 :\n",
      "[ 33.   4.   0.]\n",
      "Predicted trips for timeslot: 10 is: 2\n",
      "Timeslot 11 :\n",
      "[ 33.   4.   0.]\n",
      "Predicted trips for timeslot: 11 is: 3\n",
      "Timeslot 12 :\n",
      "[ 47.   4.   0.]\n",
      "Predicted trips for timeslot: 12 is: 4\n",
      "Timeslot 13 :\n",
      "[ 58.   4.   0.]\n",
      "Predicted trips for timeslot: 13 is: 3\n",
      "Timeslot 14 :\n",
      "[ 81.   4.   0.]\n",
      "Predicted trips for timeslot: 14 is: 4\n",
      "Timeslot 15 :\n",
      "[ 110.    4.    0.]\n",
      "Predicted trips for timeslot: 15 is: 3\n",
      "Timeslot 16 :\n",
      "[ 152.    4.    0.]\n",
      "Predicted trips for timeslot: 16 is: 4\n",
      "Timeslot 17 :\n",
      "[ 156.    4.    0.]\n",
      "Predicted trips for timeslot: 17 is: 3\n",
      "Timeslot 18 :\n",
      "[ 144.    4.    0.]\n",
      "Predicted trips for timeslot: 18 is: 3\n",
      "Timeslot 19 :\n",
      "[ 120.    4.    0.]\n",
      "Predicted trips for timeslot: 19 is: 4\n",
      "Timeslot 20 :\n",
      "[ 46.   4.   0.]\n",
      "Predicted trips for timeslot: 20 is: 0\n"
     ]
    }
   ],
   "source": [
    "from sklearn import svm, datasets\n",
    "C=1.0\n",
    "trips=[]\n",
    "up_pass=[]\n",
    "for j in xrange(len(timeslot)):\n",
    "    print 'Timeslot',j+1,':'\n",
    "    pass_data=np.asarray(df[j][['Day','isHoliday']])\n",
    "    pass_labels=np.asarray(df[j]['Passengers'])\n",
    "    target=[[current_dow,isCurrDay_holiday]]                      # Example target list to check output format and debugging\n",
    "\n",
    "    passenger_predictor = LinearRegression(normalize=True)          #Linear regression model to predict passenger frequency\n",
    "    passenger_predictor.fit(pass_data, pass_labels)\n",
    "    #err_measure = passenger_predictor.score(pass_data, pass_labels, sample_weight=None)  #Error in passenger frequency prediction\n",
    "    pass_pred=passenger_predictor.predict(target)\n",
    "    up_pass.append(round(pass_pred))\n",
    "    target=np.append(round(pass_pred),target)\n",
    "    print target\n",
    "    \n",
    "    X=df[j][feature_names].drop(['Trips','Time Slot'], axis=1).values\n",
    "    y=df[j]['Trips'].values\n",
    "    y=y.astype('int')\n",
    "    if(j==19  or len(np.unique(y))<2):\n",
    "        predicted_trips=0\n",
    "    else:\n",
    "        svc = svm.SVC(kernel='rbf',degree=3, C=C,).fit(X, y)\n",
    "        target=target.reshape(1,3)\n",
    "        predicted_trips=svc.predict(target)\n",
    "        \n",
    "    trips.append(int(predicted_trips))\n",
    "    print('Predicted trips for timeslot: %d is: %d' % (j+1,predicted_trips))\n",
    "    \n",
    "\n",
    "for i in range(len(trips)):\n",
    "        if trips[i]=='':\n",
    "            trips[i]=0   \n",
    "trips = [0 if x is None else x for x in trips]"
   ]
  },
  {
   "cell_type": "code",
   "execution_count": 145,
   "metadata": {},
   "outputs": [
    {
     "name": "stdout",
     "output_type": "stream",
     "text": [
      "[0, 1, 5, 6, 5, 3, 3, 2, 2, 2, 3, 4, 3, 4, 3, 4, 3, 3, 4, 0]\n"
     ]
    }
   ],
   "source": [
    "print trips"
   ]
  },
  {
   "cell_type": "markdown",
   "metadata": {},
   "source": [
    "# Down direction processing"
   ]
  },
  {
   "cell_type": "code",
   "execution_count": 146,
   "metadata": {
    "collapsed": true
   },
   "outputs": [],
   "source": [
    "#Making separate dataframes for each separate timeslot over many days\n",
    "df1=pd.DataFrame(columns=['Time Slot','Trips','Passengers','Day','isHoliday'])\n",
    "df2=pd.DataFrame(columns=['Time Slot','Trips','Passengers','Day','isHoliday'])\n",
    "df3=pd.DataFrame(columns=['Time Slot','Trips','Passengers','Day','isHoliday'])\n",
    "df4=pd.DataFrame(columns=['Time Slot','Trips','Passengers','Day','isHoliday'])\n",
    "df5=pd.DataFrame(columns=['Time Slot','Trips','Passengers','Day','isHoliday'])\n",
    "df6=pd.DataFrame(columns=['Time Slot','Trips','Passengers','Day','isHoliday'])\n",
    "df7=pd.DataFrame(columns=['Time Slot','Trips','Passengers','Day','isHoliday'])\n",
    "df8=pd.DataFrame(columns=['Time Slot','Trips','Passengers','Day','isHoliday'])\n",
    "df9=pd.DataFrame(columns=['Time Slot','Trips','Passengers','Day','isHoliday'])\n",
    "df10=pd.DataFrame(columns=['Time Slot','Trips','Passengers','Day','isHoliday'])\n",
    "df11=pd.DataFrame(columns=['Time Slot','Trips','Passengers','Day','isHoliday'])\n",
    "df12=pd.DataFrame(columns=['Time Slot','Trips','Passengers','Day','isHoliday'])\n",
    "df13=pd.DataFrame(columns=['Time Slot','Trips','Passengers','Day','isHoliday'])\n",
    "df14=pd.DataFrame(columns=['Time Slot','Trips','Passengers','Day','isHoliday'])\n",
    "df15=pd.DataFrame(columns=['Time Slot','Trips','Passengers','Day','isHoliday'])\n",
    "df16=pd.DataFrame(columns=['Time Slot','Trips','Passengers','Day','isHoliday'])\n",
    "df17=pd.DataFrame(columns=['Time Slot','Trips','Passengers','Day','isHoliday'])\n",
    "df18=pd.DataFrame(columns=['Time Slot','Trips','Passengers','Day','isHoliday'])\n",
    "df19=pd.DataFrame(columns=['Time Slot','Trips','Passengers','Day','isHoliday'])\n",
    "df20=pd.DataFrame(columns=['Time Slot','Trips','Passengers','Day','isHoliday'])\n",
    "df=[df1,df2,df3,df4,df5,df6,df7,df8,df9,df10,df11,df12,df13,df14,df15,df16,df17,df18,df19,df20]"
   ]
  },
  {
   "cell_type": "code",
   "execution_count": 147,
   "metadata": {
    "collapsed": true
   },
   "outputs": [],
   "source": [
    "Timeslot_values= ['00:00:01-05:00:00','05:00:01-06:00:00','06:00:01-07:00:00','07:00:01-08:00:00','08:00:01-09:00:00','09:00:01-10:00:00','10:00:01-11:00:00','11:00:01-12:00:00','12:00:01-13:00:00','13:00:01-14:00:00','14:00:01-15:00:00','15:00:01-16:00:00','16:00:01-17:00:00','17:00:01-18:00:00','18:00:01-19:00:00','19:00:01-20:00:00','20:00:01-21:00:00','21:00:01-22:00:00','22:00:01-23:00:00','23:00:01-24:00:00']\n",
    "Days = {'Monday':1,'Tuesday':2,'Wednesday':3,'Thursday':4,'Friday':5,'Saturday':6,'Sunday':7}\n",
    "\n",
    "#Obtaining the day and date details for current day \n",
    "now = datetime.datetime.now()   \n",
    "current_month = months[str(now.month).zfill(2)] \n",
    "current_day = now.day\n",
    "isCurrDay_holiday = 0\n",
    "current_dow = Days[now.strftime(\"%A\")]           #Obtaining current day of the week\n",
    "for i in range(1,24):                            #checking if there is holiday today\n",
    "    if(holiday_day[i]==current_day and current_month==holiday_month[i]):\n",
    "        isCurrDay_holiday=1\n",
    "\n",
    "for files in down_allfiles:\n",
    "    #Obtaining Day and date details from filename\n",
    "    base = os.path.basename(files)\n",
    "    day = os.path.splitext(base)[0][31:]\n",
    "    date = os.path.splitext(base)[0][29:31]\n",
    "    month = os.path.splitext(base)[0][26:28]\n",
    "    \n",
    "    #Determining whether holiday or not\n",
    "    year = os.path.splitext(base)[0][21:25]\n",
    "    #Determining whether holiday or not\n",
    "    holiday = 0\n",
    "    if year=='2017':\n",
    "        for i in range(1,22):\n",
    "            if(str(holiday_day_2017[i]).zfill(2)==date and months[month]==holiday_month_2017[i]):\n",
    "            #print'Holiday 2017'\n",
    "                holiday=1\n",
    "    else:\n",
    "        for i in range(1,23):\n",
    "            if(holiday_day[i]==date and months[month]==holiday_month[i]):\n",
    "                holiday=1\n",
    "            \n",
    "    #Pre-processing data into required format\n",
    "    day = Days[day]                                        #Mapping day to numeric value\n",
    "    with open(files,'rb') as f:\n",
    "        timeslot = []\n",
    "        trips = []\n",
    "        passengers = []\n",
    "        reader = csv.reader(f, delimiter=\",\")\n",
    "        rows = [r for r in reader]\n",
    "        for x in rows[1:]:\n",
    "            timeslot.append(x[1])\n",
    "            trips.append(x[2])\n",
    "            if(x[3]==''):\n",
    "                x[3]=0\n",
    "            passengers.append(x[3])\n",
    " \n",
    "    #Adding data into the dataframes created previously according to time slots\n",
    "    for j in xrange(len(timeslot)):\n",
    "        df[j]= df[j].append(pd.Series([timeslot[j],trips[j],int(passengers[j]),day,holiday], index = ['Time Slot','Trips','Passengers','Day','isHoliday']), ignore_index=True)\n",
    "        df[j]=df[j].replace('',0)                      #Replacing NAN values by 0"
   ]
  },
  {
   "cell_type": "code",
   "execution_count": 148,
   "metadata": {},
   "outputs": [
    {
     "name": "stdout",
     "output_type": "stream",
     "text": [
      "Timeslot 1 :\n",
      "[ 11.   4.   0.]\n",
      "Predicted trips for timeslot: 1 is: 0\n",
      "Timeslot 2 :\n",
      "[ 21.   4.   0.]\n",
      "Predicted trips for timeslot: 2 is: 2\n",
      "Timeslot 3 :\n",
      "[ 79.   4.   0.]\n",
      "Predicted trips for timeslot: 3 is: 5\n",
      "Timeslot 4 :\n",
      "[ 128.    4.    0.]\n",
      "Predicted trips for timeslot: 4 is: 7\n",
      "Timeslot 5 :\n",
      "[ 127.    4.    0.]\n",
      "Predicted trips for timeslot: 5 is: 4\n",
      "Timeslot 6 :\n",
      "[ 119.    4.    0.]\n",
      "Predicted trips for timeslot: 6 is: 4\n",
      "Timeslot 7 :\n",
      "[ 80.   4.   0.]\n",
      "Predicted trips for timeslot: 7 is: 4\n",
      "Timeslot 8 :\n",
      "[ 65.   4.   0.]\n",
      "Predicted trips for timeslot: 8 is: 4\n",
      "Timeslot 9 :\n",
      "[ 48.   4.   0.]\n",
      "Predicted trips for timeslot: 9 is: 4\n",
      "Timeslot 10 :\n",
      "[ 37.   4.   0.]\n",
      "Predicted trips for timeslot: 10 is: 3\n",
      "Timeslot 11 :\n",
      "[ 30.   4.   0.]\n",
      "Predicted trips for timeslot: 11 is: 4\n",
      "Timeslot 12 :\n",
      "[ 23.   4.   0.]\n",
      "Predicted trips for timeslot: 12 is: 4\n",
      "Timeslot 13 :\n",
      "[ 25.   4.   0.]\n",
      "Predicted trips for timeslot: 13 is: 3\n",
      "Timeslot 14 :\n",
      "[ 29.   4.   0.]\n",
      "Predicted trips for timeslot: 14 is: 3\n",
      "Timeslot 15 :\n",
      "[ 31.   4.   0.]\n",
      "Predicted trips for timeslot: 15 is: 4\n",
      "Timeslot 16 :\n",
      "[ 28.   4.   0.]\n",
      "Predicted trips for timeslot: 16 is: 3\n",
      "Timeslot 17 :\n",
      "[ 25.   4.   0.]\n",
      "Predicted trips for timeslot: 17 is: 4\n",
      "Timeslot 18 :\n",
      "[ 25.   4.   0.]\n",
      "Predicted trips for timeslot: 18 is: 3\n",
      "Timeslot 19 :\n",
      "[ 19.   4.   0.]\n",
      "Predicted trips for timeslot: 19 is: 3\n",
      "Timeslot 20 :\n",
      "[ 4.  4.  0.]\n",
      "Predicted trips for timeslot: 20 is: 0\n"
     ]
    }
   ],
   "source": [
    "from sklearn import svm, datasets\n",
    "C=1.0\n",
    "down_trips=[]\n",
    "down_pass=[]\n",
    "for j in xrange(len(timeslot)):\n",
    "    print 'Timeslot',j+1,':'\n",
    "    pass_data=np.asarray(df[j][['Day','isHoliday']])\n",
    "    pass_labels=np.asarray(df[j]['Passengers'])\n",
    "    target=[[current_dow,isCurrDay_holiday]]                      # Example target list to check output format and debugging\n",
    "\n",
    "    passenger_predictor = LinearRegression(normalize=True)          #Linear regression model to predict passenger frequency\n",
    "    passenger_predictor.fit(pass_data, pass_labels)\n",
    "    #err_measure = passenger_predictor.score(pass_data, pass_labels, sample_weight=None)  #Error in passenger frequency prediction\n",
    "    pass_pred=passenger_predictor.predict(target)\n",
    "    down_pass.append(round(pass_pred))\n",
    "    target=np.append(round(pass_pred),target)\n",
    "    print target\n",
    "    \n",
    "    X=df[j][feature_names].drop(['Trips','Time Slot'], axis=1).values\n",
    "    y=df[j]['Trips'].values\n",
    "    y=y.astype('int')\n",
    "    if(j==19 or len(np.unique(y))<2):\n",
    "        predicted_trips=0\n",
    "    else:\n",
    "        svc = svm.SVC(kernel='rbf',degree=3, C=C,).fit(X, y)\n",
    "        target=target.reshape(1,3)\n",
    "        predicted_trips=svc.predict(target)\n",
    "    down_trips.append(int(predicted_trips))\n",
    "    print('Predicted trips for timeslot: %d is: %d' % (j+1,predicted_trips))\n",
    "    \n",
    "for i in range(len(down_trips)):\n",
    "        if down_trips[i]=='':\n",
    "            down_trips[i]=0   \n",
    "down_trips = [0 if x is None else x for x in down_trips]"
   ]
  },
  {
   "cell_type": "code",
   "execution_count": 150,
   "metadata": {},
   "outputs": [
    {
     "name": "stdout",
     "output_type": "stream",
     "text": [
      "20\n",
      "20\n"
     ]
    }
   ],
   "source": [
    "print len(trips)\n",
    "print len(down_trips)"
   ]
  },
  {
   "cell_type": "code",
   "execution_count": 149,
   "metadata": {
    "collapsed": true
   },
   "outputs": [],
   "source": [
    "#Saving Results into CSV files \n",
    "forecasted_trips = pd.DataFrame(columns=['Time Slot','Up_Trips','Up_pass','Down_Trips','Down_pass'])\n",
    "save_path=r'D:/Dharmit/Final Year Project/Forecasted Trips/'\n",
    "for j in xrange(len(timeslot)):\n",
    "    forecasted_trips= forecasted_trips.append(pd.Series([timeslot[j],trips[j],up_pass[j],down_trips[j],down_pass[j]], index = ['Time Slot','Up_Trips','Up_pass','Down_Trips','Down_pass']), ignore_index=True)\n",
    "filename ='Forecasted_trips_'+bus_no+'_'+str(now.month).zfill(2) +'_'+str(now.day)+'_'+str(day)+'_SVM'\n",
    "forecasted_trips.to_csv(save_path + filename +'.csv')"
   ]
  },
  {
   "cell_type": "code",
   "execution_count": null,
   "metadata": {
    "collapsed": true
   },
   "outputs": [],
   "source": []
  }
 ],
 "metadata": {
  "kernelspec": {
   "display_name": "Python 2",
   "language": "python",
   "name": "python2"
  },
  "language_info": {
   "codemirror_mode": {
    "name": "ipython",
    "version": 2
   },
   "file_extension": ".py",
   "mimetype": "text/x-python",
   "name": "python",
   "nbconvert_exporter": "python",
   "pygments_lexer": "ipython2",
   "version": "2.7.14"
  }
 },
 "nbformat": 4,
 "nbformat_minor": 1
}
