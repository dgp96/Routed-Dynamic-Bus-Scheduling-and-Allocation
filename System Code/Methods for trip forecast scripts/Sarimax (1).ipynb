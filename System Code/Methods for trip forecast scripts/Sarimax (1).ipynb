{
 "cells": [
  {
   "cell_type": "code",
   "execution_count": 137,
   "metadata": {
    "collapsed": true,
    "scrolled": true
   },
   "outputs": [],
   "source": [
    "#Import files module\n",
    "import pandas as pd\n",
    "import csv\n",
    "import re                     ##Regular expressions\n",
    "import glob\n",
    "import os\n",
    "import logging\n",
    "import numpy as np\n",
    "import datetime\n",
    "import statsmodels.api as sm\n",
    "from datetime import datetime\n",
    "from sklearn.preprocessing import StandardScaler\n",
    "from math import sqrt\n",
    "from numpy import concatenate\n",
    "from pandas import read_csv\n",
    "from pandas import DataFrame\n",
    "from pandas import concat\n",
    "from pandas import Series\n",
    "from statsmodels.tsa.arima_model import ARIMA\n",
    "import numpy\n",
    "from statsmodels.tsa.seasonal import seasonal_decompose\n",
    "from statsmodels.tsa.stattools import adfuller\n",
    "import warnings\n",
    "from pandas import datetime\n",
    "from sklearn.metrics import mean_squared_error"
   ]
  },
  {
   "cell_type": "code",
   "execution_count": 138,
   "metadata": {
    "collapsed": true
   },
   "outputs": [],
   "source": [
    "#logging mechanism for debugging\n",
    "logging.basicConfig(format='%(asctime)s : %(levelname)s : %(message)s', level=logging.INFO)"
   ]
  },
  {
   "cell_type": "code",
   "execution_count": 139,
   "metadata": {
    "collapsed": true
   },
   "outputs": [],
   "source": [
    "#Mapping months to numeric values\n",
    "months = {'01':'Jan','02':'Feb','03':'Mar','04':'Apr','05':'May','06':'June','07':'July','08':'Aug','09':'Sept','10':'Oct','11':'Nov','12':'Dec'}"
   ]
  },
  {
   "cell_type": "code",
   "execution_count": 140,
   "metadata": {
    "collapsed": true
   },
   "outputs": [],
   "source": [
    "import pandas as pd\n",
    "\n",
    "#Importing files from specific folders and list of holidays\n",
    "bus_no='6080'                                                 #Route number - Change this value accordingly \n",
    "path = r'D:/Dharmit/Final Year Project/Clean data Vikhroli/'+bus_no+'/Up'       #Up Direction files folder Path - Change the path accordingly    \n",
    "down_path = r'D:/Dharmit/Final Year Project/Clean data Vikhroli/'+bus_no+'/Down'      #Down Direction files folder path - Change the path accordingly\n",
    "allfiles = glob.glob(path + \"/*.csv\")\n",
    "down_allfiles=glob.glob(down_path + \"/*.csv\")\n",
    "Holiday_colnames = ['Holiday', 'Date', 'Day', 'Month']\n",
    "Holiday_data = pd.read_csv('D:\\Dharmit\\Final Year Project\\List of holidays.csv', names=Holiday_colnames)    #Holiday list for 2018\n",
    "Holiday_2017 = pd.read_csv('D:\\Dharmit\\Final Year Project\\List of holidays 2017.csv', names=Holiday_colnames)     #Holiday list for 2017\n",
    "feature_names =  ['Time Slot','Trips','Passengers','Day','isHoliday']"
   ]
  },
  {
   "cell_type": "markdown",
   "metadata": {},
   "source": [
    "# Up direction processing"
   ]
  },
  {
   "cell_type": "code",
   "execution_count": 141,
   "metadata": {
    "collapsed": true
   },
   "outputs": [],
   "source": [
    "#Making separate dataframes for each separate timeslot over many days\n",
    "df1=pd.DataFrame(columns=['Time Slot','Trips','Passengers','Day','isHoliday'])\n",
    "df2=pd.DataFrame(columns=['Time Slot','Trips','Passengers','Day','isHoliday'])\n",
    "df3=pd.DataFrame(columns=['Time Slot','Trips','Passengers','Day','isHoliday'])\n",
    "df4=pd.DataFrame(columns=['Time Slot','Trips','Passengers','Day','isHoliday'])\n",
    "df5=pd.DataFrame(columns=['Time Slot','Trips','Passengers','Day','isHoliday'])\n",
    "df6=pd.DataFrame(columns=['Time Slot','Trips','Passengers','Day','isHoliday'])\n",
    "df7=pd.DataFrame(columns=['Time Slot','Trips','Passengers','Day','isHoliday'])\n",
    "df8=pd.DataFrame(columns=['Time Slot','Trips','Passengers','Day','isHoliday'])\n",
    "df9=pd.DataFrame(columns=['Time Slot','Trips','Passengers','Day','isHoliday'])\n",
    "df10=pd.DataFrame(columns=['Time Slot','Trips','Passengers','Day','isHoliday'])\n",
    "df11=pd.DataFrame(columns=['Time Slot','Trips','Passengers','Day','isHoliday'])\n",
    "df12=pd.DataFrame(columns=['Time Slot','Trips','Passengers','Day','isHoliday'])\n",
    "df13=pd.DataFrame(columns=['Time Slot','Trips','Passengers','Day','isHoliday'])\n",
    "df14=pd.DataFrame(columns=['Time Slot','Trips','Passengers','Day','isHoliday'])\n",
    "df15=pd.DataFrame(columns=['Time Slot','Trips','Passengers','Day','isHoliday'])\n",
    "df16=pd.DataFrame(columns=['Time Slot','Trips','Passengers','Day','isHoliday'])\n",
    "df17=pd.DataFrame(columns=['Time Slot','Trips','Passengers','Day','isHoliday'])\n",
    "df18=pd.DataFrame(columns=['Time Slot','Trips','Passengers','Day','isHoliday'])\n",
    "df19=pd.DataFrame(columns=['Time Slot','Trips','Passengers','Day','isHoliday'])\n",
    "df20=pd.DataFrame(columns=['Time Slot','Trips','Passengers','Day','isHoliday'])\n",
    "df=[df1,df2,df3,df4,df5,df6,df7,df8,df9,df10,df11,df12,df13,df14,df15,df16,df17,df18,df19,df20]\n",
    "\n",
    "#Dicing only requird data from list of holidays\n",
    "holiday_day = Holiday_data['Day']\n",
    "holiday_month = Holiday_data['Month']\n",
    "holiday_day_2017 = Holiday_2017['Day']\n",
    "holiday_month_2017 = Holiday_2017['Month']"
   ]
  },
  {
   "cell_type": "code",
   "execution_count": 142,
   "metadata": {
    "collapsed": true
   },
   "outputs": [],
   "source": [
    "Timeslot_values= ['00:00:01-05:00:00','05:00:01-06:00:00','06:00:01-07:00:00','07:00:01-08:00:00','08:00:01-09:00:00','09:00:01-10:00:00','10:00:01-11:00:00','11:00:01-12:00:00','12:00:01-13:00:00','13:00:01-14:00:00','14:00:01-15:00:00','15:00:01-16:00:00','16:00:01-17:00:00','17:00:01-18:00:00','18:00:01-19:00:00','19:00:01-20:00:00','20:00:01-21:00:00','21:00:01-22:00:00','22:00:01-23:00:00','23:00:01-24:00:00']\n",
    "Days = {'Monday':1,'Tuesday':2,'Wednesday':3,'Thursday':4,'Friday':5,'Saturday':6,'Sunday':7}\n",
    "\n",
    "#Obtaining the day and date details for current day \n",
    "import datetime\n",
    "now = datetime.datetime.now()   \n",
    "current_month = months[str(now.month).zfill(2)] \n",
    "current_day = now.day\n",
    "isCurrDay_holiday = 0\n",
    "current_dow = Days[now.strftime(\"%A\")]           #Obtaining current day of the week\n",
    "for i in range(1,23):                            #checking if there is holiday today\n",
    "    if(holiday_day[i]==current_day and current_month==holiday_month[i]):\n",
    "        isCurrDay_holiday=1\n",
    "\n",
    "for files in allfiles:\n",
    "    #Obtaining Day and date details from filename\n",
    "    base = os.path.basename(files)\n",
    "    day = os.path.splitext(base)[0][29:]\n",
    "    date = os.path.splitext(base)[0][26:28]\n",
    "\n",
    "    month = os.path.splitext(base)[0][23:25]\n",
    "    year = os.path.splitext(base)[0][18:22]\n",
    "    #Determining whether holiday or not\n",
    "    holiday = 0\n",
    "    if year=='2017':\n",
    "        for i in range(1,22):\n",
    "            if(str(holiday_day_2017[i]).zfill(2)==date and months[month]==holiday_month_2017[i]):\n",
    "            #print'Holiday 2017'\n",
    "                holiday=1\n",
    "    else:\n",
    "        for i in range(1,23):\n",
    "            if(holiday_day[i]==date and months[month]==holiday_month[i]):\n",
    "                holiday=1\n",
    "            \n",
    "    #Pre-processing data into required format\n",
    "    day = Days[day]                                        #Mapping day to numeric value\n",
    "    with open(files,'rb') as f:\n",
    "        timeslot = []\n",
    "        trips = []\n",
    "        passengers = []\n",
    "        reader = csv.reader(f, delimiter=\",\")\n",
    "        rows = [r for r in reader]\n",
    "        for x in rows[1:]:\n",
    "            timeslot.append(x[1])\n",
    "            trips.append(x[2])\n",
    "            if(x[3]==''):\n",
    "                x[3]=0\n",
    "            passengers.append(x[3])\n",
    " \n",
    "    #Adding data into the dataframes created previously according to time slots\n",
    "    for j in xrange(len(timeslot)):\n",
    "        df[j]= df[j].append(pd.Series([timeslot[j],trips[j],int(passengers[j]),day,holiday], index = ['Time Slot','Trips','Passengers','Day','isHoliday']), ignore_index=True)\n",
    "        df[j]=df[j].replace('',0)                      #Replacing NAN values by 0"
   ]
  },
  {
   "cell_type": "code",
   "execution_count": 144,
   "metadata": {},
   "outputs": [
    {
     "name": "stdout",
     "output_type": "stream",
     "text": [
      "[array([  4.,   0.,  15.])]\n",
      "[ 0.66475627]\n",
      "[array([ 4.,  0.,  6.])]\n",
      "[ 0.91935769]\n",
      "[array([  4.,   0.,  19.])]\n",
      "[ 4.8519198]\n",
      "[array([  4.,   0.,  33.])]\n",
      "[ 6.2789739]\n",
      "[array([  4.,   0.,  30.])]\n",
      "[ 4.27268715]\n",
      "[array([  4.,   0.,  32.])]\n",
      "[ 3.82969955]\n",
      "[array([  4.,   0.,  19.])]\n",
      "[ 3.04816819]\n",
      "[array([  4.,   0.,  23.])]\n",
      "[ 2.86569757]\n",
      "[array([  4.,   0.,  32.])]\n",
      "[ 2.19532964]\n",
      "[array([  4.,   0.,  34.])]\n",
      "[ 2.13155741]\n",
      "[array([  4.,   0.,  31.])]\n",
      "[ 3.40855136]\n",
      "[array([  4.,   0.,  54.])]\n",
      "[ 3.74258411]\n",
      "[array([  4.,   0.,  63.])]\n",
      "[ 2.94657811]\n",
      "[array([  4.,   0.,  70.])]\n",
      "[ 2.72748576]\n",
      "[array([   4.,    0.,  100.])]\n",
      "[ 2.88458282]\n",
      "[array([   4.,    0.,  139.])]\n",
      "[ 3.34519369]\n",
      "[array([   4.,    0.,  182.])]\n"
     ]
    },
    {
     "name": "stderr",
     "output_type": "stream",
     "text": [
      "C:\\Users\\Lenovo\\Anaconda2\\lib\\site-packages\\statsmodels\\base\\model.py:496: ConvergenceWarning: Maximum Likelihood optimization failed to converge. Check mle_retvals\n",
      "  \"Check mle_retvals\", ConvergenceWarning)\n"
     ]
    },
    {
     "name": "stdout",
     "output_type": "stream",
     "text": [
      "[ 3.77765407]\n",
      "[array([   4.,    0.,  106.])]\n",
      "[ 2.68890038]\n",
      "[array([   4.,    0.,  111.])]\n",
      "[ 2.90892898]\n"
     ]
    }
   ],
   "source": [
    "up_pass=[]\n",
    "for j in range(len(timeslot)):\n",
    "    if(j==19):\n",
    "        continue\n",
    "    df[j].index = pd.DatetimeIndex(freq = \"d\", start = 0, periods=df[j].shape[0])\n",
    "    series = df[j].copy()\n",
    "    series.drop(['Time Slot','Trips','isHoliday','Day'],axis=1,inplace=True)\n",
    "    # seasonal difference\n",
    "    X = series.values\n",
    "    model = sm.tsa.statespace.SARIMAX(series.Passengers, trend='n', order=(1,0,0), seasonal_order=(0,1,1,7), enforce_invertibility=False)\n",
    "    model_fit = model.fit()\n",
    "    #print model_fit.summary()\n",
    "    forecast_values = model_fit.forecast(steps=1)\n",
    "    if forecast_values[0]<=0:\n",
    "        up_pass.append(0)\n",
    "    else:\n",
    "        up_pass.append(round(forecast_values[0]))\n",
    "up_pass.append(0.0)\n",
    "    \n",
    "trips = []\n",
    "for j in range(len(timeslot)):\n",
    "    if(j==19):\n",
    "        continue\n",
    "    target = pd.Series([current_dow,isCurrDay_holiday,], index = ['Day','isHoliday'])\n",
    "    target['Passengers'] = up_pass[j]\n",
    "    df_try=df[j][['Day','isHoliday','Passengers']].copy()\n",
    "    labels=df[j]['Trips'].copy()\n",
    "\n",
    "    labels=np.asarray(labels,dtype=float)\n",
    "    df_try=np.asarray(df_try,dtype=float)\n",
    "    target=np.asarray(target,dtype=float)\n",
    "    target=[target]\n",
    "    print target\n",
    "    model_trips=sm.tsa.statespace.SARIMAX(endog=labels,exog=df_try,trend='n', order=(1,0,0), seasonal_order=(0,1,1,7),enforce_stationarity=True, enforce_invertibility=False)\n",
    "    model_trips = model_trips.fit()\n",
    "    trip_forecast = model_trips.forecast(steps = 1,exog=target)\n",
    "    print trip_forecast\n",
    "    if trip_forecast[0]<=0:\n",
    "        trip=0\n",
    "    else:\n",
    "        trip=round(trip_forecast[0])\n",
    "    trips.append(trip)\n",
    "trips.append(0.0)\n",
    "    "
   ]
  },
  {
   "cell_type": "markdown",
   "metadata": {},
   "source": [
    "# Down Direction Processing "
   ]
  },
  {
   "cell_type": "code",
   "execution_count": 146,
   "metadata": {
    "collapsed": true
   },
   "outputs": [],
   "source": [
    "#Making separate dataframes for each separate timeslot over many days\n",
    "df1=pd.DataFrame(columns=['Time Slot','Trips','Passengers','Day','isHoliday'])\n",
    "df2=pd.DataFrame(columns=['Time Slot','Trips','Passengers','Day','isHoliday'])\n",
    "df3=pd.DataFrame(columns=['Time Slot','Trips','Passengers','Day','isHoliday'])\n",
    "df4=pd.DataFrame(columns=['Time Slot','Trips','Passengers','Day','isHoliday'])\n",
    "df5=pd.DataFrame(columns=['Time Slot','Trips','Passengers','Day','isHoliday'])\n",
    "df6=pd.DataFrame(columns=['Time Slot','Trips','Passengers','Day','isHoliday'])\n",
    "df7=pd.DataFrame(columns=['Time Slot','Trips','Passengers','Day','isHoliday'])\n",
    "df8=pd.DataFrame(columns=['Time Slot','Trips','Passengers','Day','isHoliday'])\n",
    "df9=pd.DataFrame(columns=['Time Slot','Trips','Passengers','Day','isHoliday'])\n",
    "df10=pd.DataFrame(columns=['Time Slot','Trips','Passengers','Day','isHoliday'])\n",
    "df11=pd.DataFrame(columns=['Time Slot','Trips','Passengers','Day','isHoliday'])\n",
    "df12=pd.DataFrame(columns=['Time Slot','Trips','Passengers','Day','isHoliday'])\n",
    "df13=pd.DataFrame(columns=['Time Slot','Trips','Passengers','Day','isHoliday'])\n",
    "df14=pd.DataFrame(columns=['Time Slot','Trips','Passengers','Day','isHoliday'])\n",
    "df15=pd.DataFrame(columns=['Time Slot','Trips','Passengers','Day','isHoliday'])\n",
    "df16=pd.DataFrame(columns=['Time Slot','Trips','Passengers','Day','isHoliday'])\n",
    "df17=pd.DataFrame(columns=['Time Slot','Trips','Passengers','Day','isHoliday'])\n",
    "df18=pd.DataFrame(columns=['Time Slot','Trips','Passengers','Day','isHoliday'])\n",
    "df19=pd.DataFrame(columns=['Time Slot','Trips','Passengers','Day','isHoliday'])\n",
    "df20=pd.DataFrame(columns=['Time Slot','Trips','Passengers','Day','isHoliday'])\n",
    "df=[df1,df2,df3,df4,df5,df6,df7,df8,df9,df10,df11,df12,df13,df14,df15,df16,df17,df18,df19,df20]\n",
    "\n",
    "#Dicing only requird data from list of holidays\n",
    "holiday_day = Holiday_data['Day']\n",
    "holiday_month = Holiday_data['Month']"
   ]
  },
  {
   "cell_type": "code",
   "execution_count": 147,
   "metadata": {
    "collapsed": true
   },
   "outputs": [],
   "source": [
    "Timeslot_values= ['00:00:01-05:00:00','05:00:01-06:00:00','06:00:01-07:00:00','07:00:01-08:00:00','08:00:01-09:00:00','09:00:01-10:00:00','10:00:01-11:00:00','11:00:01-12:00:00','12:00:01-13:00:00','13:00:01-14:00:00','14:00:01-15:00:00','15:00:01-16:00:00','16:00:01-17:00:00','17:00:01-18:00:00','18:00:01-19:00:00','19:00:01-20:00:00','20:00:01-21:00:00','21:00:01-22:00:00','22:00:01-23:00:00','23:00:01-24:00:00']\n",
    "Days = {'Monday':1,'Tuesday':2,'Wednesday':3,'Thursday':4,'Friday':5,'Saturday':6,'Sunday':7}\n",
    "#Obtaining the day and date details for current day \n",
    "now = datetime.now()   \n",
    "current_month = months[str(now.month).zfill(2)] \n",
    "current_day = now.day\n",
    "isCurrDay_holiday = 0\n",
    "current_dow = Days[now.strftime(\"%A\")]           #Obtaining current day of the week\n",
    "for i in range(1,24):                            #checking if there is holiday today\n",
    "    if(holiday_day[i]==current_day and current_month==holiday_month[i]):\n",
    "        isCurrDay_holiday=1\n",
    "        \n",
    "for files in down_allfiles:\n",
    "    #Obtaining Day and date details from filename\n",
    "    base = os.path.basename(files)\n",
    "    day = os.path.splitext(base)[0][31:]   \n",
    "    date = os.path.splitext(base)[0][28:30]\n",
    "    month = os.path.splitext(base)[0][25:27]\n",
    "    year = os.path.splitext(base)[0][20:24]\n",
    "    \n",
    "    #Determining whether holiday or not\n",
    "    holiday = 0\n",
    "    if year=='2017':\n",
    "        for i in range(1,22):\n",
    "            if(str(holiday_day_2017[i]).zfill(2)==date and months[month]==holiday_month_2017[i]):\n",
    "            #print'Holiday 2017'\n",
    "                holiday=1\n",
    "    else:\n",
    "        for i in range(1,23):\n",
    "            if(holiday_day[i]==date and months[month]==holiday_month[i]):\n",
    "                holiday=1\n",
    "            \n",
    "            \n",
    "    #Pre-processing data into required format\n",
    "    day = Days[day]                                        #Mapping day to numeric value\n",
    "    with open(files,'rb') as f:\n",
    "        timeslot = []\n",
    "        trips = []\n",
    "        passengers = []\n",
    "        reader = csv.reader(f, delimiter=\",\")\n",
    "        rows = [r for r in reader]\n",
    "        for x in rows[1:]:\n",
    "            timeslot.append(x[1])\n",
    "            trips.append(x[2])\n",
    "            if(x[3]==''):\n",
    "                x[3]=0\n",
    "            passengers.append(x[3])\n",
    " \n",
    "    #Adding data into the dataframes created previously according to time slots\n",
    "    for j in xrange(len(timeslot)):\n",
    "        df[j]= df[j].append(pd.Series([timeslot[j],trips[j],int(passengers[j]),day,holiday], index = ['Time Slot','Trips','Passengers','Day','isHoliday']), ignore_index=True)\n",
    "        df[j]=df[j].replace('',0)                      #Replacing NAN values by 0\n",
    "        df[j]['Trips'] = df[j]['Trips'].apply(pd.to_numeric)"
   ]
  },
  {
   "cell_type": "code",
   "execution_count": 148,
   "metadata": {},
   "outputs": [
    {
     "name": "stdout",
     "output_type": "stream",
     "text": [
      "[array([ 4.,  0.,  6.])]\n",
      "[ 0.52651893]\n",
      "[array([  4.,   0.,  17.])]\n",
      "[ 1.72628375]\n",
      "[array([  4.,   0.,  85.])]\n",
      "[ 5.89755479]\n",
      "[array([   4.,    0.,  129.])]\n",
      "[ 6.1635167]\n",
      "[array([  4.,   0.,  95.])]\n"
     ]
    },
    {
     "name": "stderr",
     "output_type": "stream",
     "text": [
      "C:\\Users\\Lenovo\\Anaconda2\\lib\\site-packages\\statsmodels\\base\\model.py:496: ConvergenceWarning: Maximum Likelihood optimization failed to converge. Check mle_retvals\n",
      "  \"Check mle_retvals\", ConvergenceWarning)\n"
     ]
    },
    {
     "name": "stdout",
     "output_type": "stream",
     "text": [
      "[ 4.36288743]\n",
      "[array([   4.,    0.,  100.])]\n",
      "[ 4.3692434]\n",
      "[array([  4.,   0.,  60.])]\n"
     ]
    },
    {
     "name": "stderr",
     "output_type": "stream",
     "text": [
      "C:\\Users\\Lenovo\\Anaconda2\\lib\\site-packages\\statsmodels\\base\\model.py:496: ConvergenceWarning: Maximum Likelihood optimization failed to converge. Check mle_retvals\n",
      "  \"Check mle_retvals\", ConvergenceWarning)\n"
     ]
    },
    {
     "name": "stdout",
     "output_type": "stream",
     "text": [
      "[ 3.15156685]\n",
      "[array([  4.,   0.,  49.])]\n",
      "[ 3.26711887]\n",
      "[array([  4.,   0.,  40.])]\n",
      "[ 2.83818977]\n",
      "[array([  4.,   0.,  35.])]\n",
      "[ 3.22206234]\n",
      "[array([  4.,   0.,  31.])]\n",
      "[ 2.59522937]\n",
      "[array([  4.,   0.,  18.])]\n",
      "[ 2.78064128]\n",
      "[array([  4.,   0.,  25.])]\n",
      "[ 2.96146131]\n",
      "[array([  4.,   0.,  32.])]\n",
      "[ 3.02662158]\n",
      "[array([  4.,   0.,  28.])]\n",
      "[ 3.24762863]\n",
      "[array([  4.,   0.,  20.])]\n",
      "[ 2.73599191]\n",
      "[array([  4.,   0.,  23.])]\n",
      "[ 3.71473192]\n",
      "[array([  4.,   0.,  23.])]\n",
      "[ 3.44936436]\n",
      "[array([  4.,   0.,  18.])]\n",
      "[ 3.37466733]\n"
     ]
    }
   ],
   "source": [
    "down_trips=[]\n",
    "down_pass=[]\n",
    "\n",
    "for j in range(len(timeslot)):\n",
    "    if(j==19):\n",
    "        continue\n",
    "    df[j].index = pd.DatetimeIndex(freq = \"d\", start = 0, periods=df[j].shape[0])\n",
    "    series = df[j].copy()\n",
    "    series.drop(['Time Slot','Trips','isHoliday','Day'],axis=1,inplace=True)\n",
    "    # seasonal difference\n",
    "    X = series.values\n",
    "    model = sm.tsa.statespace.SARIMAX(series.Passengers, trend='n', order=(1,0,0), seasonal_order=(0,1,1,7), enforce_invertibility=False)\n",
    "    model_fit = model.fit()\n",
    "    #print model_fit.summary()\n",
    "    forecast_values = model_fit.forecast(steps=1)\n",
    "    if forecast_values[0]<=0:\n",
    "        down_pass.append(0)\n",
    "    else:\n",
    "        down_pass.append(round(forecast_values[0]))\n",
    "down_pass.append(0.0)\n",
    "    \n",
    "for j in range(len(timeslot)): \n",
    "    if(j==19):\n",
    "        continue\n",
    "    target = pd.Series([current_dow,isCurrDay_holiday,], index = ['Day','isHoliday'])\n",
    "    target['Passengers'] = down_pass[j]\n",
    "    df_try=df[j][['Day','isHoliday','Passengers']].copy()\n",
    "    labels=df[j]['Trips'].copy()\n",
    "\n",
    "    labels=np.asarray(labels,dtype=float)\n",
    "    df_try=np.asarray(df_try,dtype=float)\n",
    "    target=np.asarray(target,dtype=float)\n",
    "    target=[target]\n",
    "    print target\n",
    "    if(j<19):    \n",
    "        model_trips=sm.tsa.statespace.SARIMAX(endog=labels,exog=df_try,trend='n', order=(1,0,0), seasonal_order=(1,1,1,7),enforce_stationarity=True, enforce_invertibility=False)\n",
    "        model_trips = model_trips.fit()\n",
    "        trip_forecast = model_trips.forecast(steps = 1,exog=target)\n",
    "        print trip_forecast\n",
    "        if trip_forecast[0]<=0:\n",
    "            trip=0\n",
    "        else:\n",
    "            trip=round(trip_forecast[0])\n",
    "    else:\n",
    "        trip=0\n",
    "    down_trips.append(trip)\n",
    "down_trips.append(0.0)\n",
    "    "
   ]
  },
  {
   "cell_type": "code",
   "execution_count": 149,
   "metadata": {},
   "outputs": [
    {
     "name": "stdout",
     "output_type": "stream",
     "text": [
      "20\n",
      "20\n"
     ]
    }
   ],
   "source": [
    "print len(down_pass)\n",
    "print len(down_trips)"
   ]
  },
  {
   "cell_type": "code",
   "execution_count": 150,
   "metadata": {
    "collapsed": true
   },
   "outputs": [],
   "source": [
    "#Saving Results into CSV files \n",
    "forecasted_trips = pd.DataFrame(columns=['Time Slot','Up_Trips','Up_pass','Down_Trips','Down_pass'])\n",
    "save_path=r'D:/Dharmit/Final Year Project/Forecasted Trips/'\n",
    "for j in range(len(timeslot)):\n",
    "    forecasted_trips= forecasted_trips.append(pd.Series([timeslot[j],trips[j],up_pass[j],down_trips[j],down_pass[j]], index = ['Time Slot','Up_Trips','Up_pass','Down_Trips','Down_pass']), ignore_index=True)\n",
    "filename ='Forecasted_trips_'+bus_no+'_'+str(now.month).zfill(2) +'_'+str(now.day)+'_'+str(day)+'_SARIMAX'\n",
    "forecasted_trips.to_csv(save_path + filename +'.csv')"
   ]
  }
 ],
 "metadata": {
  "kernelspec": {
   "display_name": "Python 2",
   "language": "python",
   "name": "python2"
  },
  "language_info": {
   "codemirror_mode": {
    "name": "ipython",
    "version": 2
   },
   "file_extension": ".py",
   "mimetype": "text/x-python",
   "name": "python",
   "nbconvert_exporter": "python",
   "pygments_lexer": "ipython2",
   "version": "2.7.14"
  }
 },
 "nbformat": 4,
 "nbformat_minor": 2
}
